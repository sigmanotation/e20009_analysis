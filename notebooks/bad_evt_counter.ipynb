{
 "cells": [
  {
   "cell_type": "code",
   "execution_count": 1,
   "metadata": {},
   "outputs": [],
   "source": [
    "import numpy as np\n",
    "import h5py as h5\n",
    "from pathlib import Path"
   ]
  },
  {
   "cell_type": "code",
   "execution_count": 2,
   "metadata": {},
   "outputs": [],
   "source": [
    "run_min=108\n",
    "run_max=366"
   ]
  },
  {
   "cell_type": "code",
   "execution_count": 3,
   "metadata": {},
   "outputs": [],
   "source": [
    "point_path = Path(\"D:\\\\e20009_analysis\\\\PointcloudLegacy\")"
   ]
  },
  {
   "cell_type": "code",
   "execution_count": 4,
   "metadata": {},
   "outputs": [],
   "source": [
    "total_evt = 0\n",
    "bad = 0"
   ]
  },
  {
   "cell_type": "code",
   "execution_count": 5,
   "metadata": {},
   "outputs": [
    {
     "name": "stdout",
     "output_type": "stream",
     "text": [
      "108 done\n",
      "109 done\n",
      "110 done\n",
      "112 done\n",
      "113 done\n",
      "114 done\n",
      "115 done\n",
      "116 done\n",
      "117 done\n",
      "118 done\n",
      "119 done\n",
      "120 done\n",
      "121 done\n",
      "122 done\n",
      "123 done\n",
      "124 done\n",
      "125 done\n",
      "126 done\n",
      "173 done\n",
      "181 done\n",
      "182 done\n",
      "183 done\n",
      "184 done\n",
      "185 done\n",
      "207 done\n",
      "208 done\n",
      "209 done\n",
      "210 done\n",
      "211 done\n",
      "231 done\n",
      "249 done\n",
      "250 done\n",
      "251 done\n",
      "252 done\n",
      "253 done\n",
      "255 done\n",
      "256 done\n",
      "259 done\n",
      "260 done\n",
      "261 done\n",
      "262 done\n",
      "263 done\n",
      "264 done\n",
      "265 done\n",
      "266 done\n",
      "267 done\n",
      "268 done\n",
      "269 done\n",
      "270 done\n",
      "271 done\n",
      "272 done\n",
      "273 done\n",
      "274 done\n",
      "275 done\n",
      "276 done\n",
      "277 done\n",
      "278 done\n",
      "279 done\n",
      "280 done\n",
      "281 done\n",
      "286 done\n",
      "287 done\n",
      "288 done\n",
      "289 done\n",
      "290 done\n",
      "291 done\n",
      "292 done\n",
      "293 done\n",
      "294 done\n",
      "295 done\n",
      "296 done\n",
      "297 done\n",
      "298 done\n",
      "299 done\n",
      "300 done\n",
      "301 done\n",
      "302 done\n",
      "303 done\n",
      "304 done\n",
      "305 done\n",
      "306 done\n",
      "307 done\n",
      "308 done\n",
      "309 done\n",
      "310 done\n",
      "311 done\n",
      "312 done\n",
      "313 done\n",
      "314 done\n",
      "315 done\n",
      "316 done\n",
      "317 done\n",
      "318 done\n",
      "319 done\n",
      "320 done\n",
      "334 done\n",
      "335 done\n",
      "336 done\n",
      "344 done\n",
      "345 done\n",
      "346 done\n",
      "347 done\n",
      "348 done\n",
      "349 done\n",
      "350 done\n",
      "351 done\n",
      "352 done\n",
      "353 done\n",
      "354 done\n",
      "355 done\n",
      "356 done\n",
      "357 done\n",
      "358 done\n",
      "359 done\n",
      "360 done\n",
      "361 done\n",
      "362 done\n",
      "363 done\n",
      "364 done\n",
      "365 done\n",
      "366 done\n"
     ]
    }
   ],
   "source": [
    "for run in range(run_min, run_max+1):\n",
    "    path = point_path / f\"run_{run:04d}.h5\"\n",
    "    if not path.exists():\n",
    "        continue\n",
    "    f = h5.File(path, \"r\")\n",
    "    events = f[\"cloud\"]\n",
    "    total_evt += len(events)\n",
    "    for id in events:\n",
    "        evt = events[id]\n",
    "        if evt.attrs[\"ic_multiplicity\"] > 1 or evt.attrs[\"ic_sca_multiplicity\"] > 1:\n",
    "            bad +=1\n",
    "    print(f\"{run} done\")"
   ]
  },
  {
   "cell_type": "code",
   "execution_count": 6,
   "metadata": {},
   "outputs": [
    {
     "data": {
      "text/plain": [
       "6131566"
      ]
     },
     "execution_count": 6,
     "metadata": {},
     "output_type": "execute_result"
    }
   ],
   "source": [
    "total_evt"
   ]
  },
  {
   "cell_type": "code",
   "execution_count": 8,
   "metadata": {},
   "outputs": [
    {
     "data": {
      "text/plain": [
       "0.6641221834683015"
      ]
     },
     "execution_count": 8,
     "metadata": {},
     "output_type": "execute_result"
    }
   ],
   "source": [
    "bad/total_evt"
   ]
  }
 ],
 "metadata": {
  "kernelspec": {
   "display_name": "e20009_analysis",
   "language": "python",
   "name": "python3"
  },
  "language_info": {
   "codemirror_mode": {
    "name": "ipython",
    "version": 3
   },
   "file_extension": ".py",
   "mimetype": "text/x-python",
   "name": "python",
   "nbconvert_exporter": "python",
   "pygments_lexer": "ipython3",
   "version": "3.11.8"
  }
 },
 "nbformat": 4,
 "nbformat_minor": 2
}

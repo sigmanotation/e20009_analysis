{
 "cells": [
  {
   "cell_type": "code",
   "execution_count": null,
   "metadata": {},
   "outputs": [],
   "source": [
    "import numpy as np"
   ]
  },
  {
   "cell_type": "code",
   "execution_count": null,
   "metadata": {},
   "outputs": [],
   "source": [
    "xs_titles = [\"elastic\", \"inelastic_3.37\", \"dp_gs\", \"dp_0.32\", \"dp_1.78\", \"dp_2.65\", \"dp_3.40\"]"
   ]
  },
  {
   "cell_type": "code",
   "execution_count": null,
   "metadata": {},
   "outputs": [],
   "source": [
    "for xs in xs_titles:\n",
    "    \n",
    "    # Read in XS\n",
    "    not_gated = np.genfromtxt(f\"C:\\\\Users\\\\zachs\\\\Desktop\\\\data4plots\\\\xs_no_gate_err\\\\xs_full\\\\{xs}_xs.csv\", delimiter=',', skip_header=1)\n",
    "    gated = np.genfromtxt(f\"C:\\\\Users\\\\zachs\\\\Desktop\\\\data4plots\\\\xs_gate_err\\\\xs_gated\\\\{xs}_xs_gated.csv\", delimiter=',', skip_header=1)\n",
    "\n",
    "    # Replace error\n",
    "    new = not_gated.copy()\n",
    "    new[:, 3] = np.sqrt(not_gated[:, 3]**2 + (not_gated[:, 2] - gated[:, 2])**2)\n",
    "\n",
    "    np.savetxt(f\"C:\\\\Users\\\\zachs\\\\Desktop\\\\data4plots\\\\xs_gate_err\\\\xs_with_err_full\\\\{xs}_xs_ep.csv\", new, newline=\"\\n\", fmt=\"%.4f\", delimiter=\",\", header=\"ang(deg),ang_err,xs(mb),xs_err\", comments=\"\")"
   ]
  }
 ],
 "metadata": {
  "kernelspec": {
   "display_name": "e20009_analysis",
   "language": "python",
   "name": "python3"
  },
  "language_info": {
   "codemirror_mode": {
    "name": "ipython",
    "version": 3
   },
   "file_extension": ".py",
   "mimetype": "text/x-python",
   "name": "python",
   "nbconvert_exporter": "python",
   "pygments_lexer": "ipython3",
   "version": "3.11.8"
  }
 },
 "nbformat": 4,
 "nbformat_minor": 2
}

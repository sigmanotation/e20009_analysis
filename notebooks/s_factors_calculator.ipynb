{
 "cells": [
  {
   "cell_type": "code",
   "execution_count": null,
   "id": "46bfac9c",
   "metadata": {},
   "outputs": [],
   "source": [
    "import numpy as np\n",
    "import lmfit\n",
    "\n",
    "from pathlib import Path"
   ]
  },
  {
   "cell_type": "code",
   "execution_count": null,
   "id": "963d69f4",
   "metadata": {},
   "outputs": [],
   "source": [
    "# Configuration\n",
    "potentials = [\"an_cai\", \"da1p\"]\n",
    "states = [\"gs\", \"0.32\", \"1.78\", \"2.65\", \"3.40n\", \"3.40p\"]\n",
    "energies = [\"win\", \"mid\", \"mm\"]\n",
    "theory_dir = Path(\"C:\\\\Users\\\\zachs\\\\Desktop\\\\data4plots\\\\theory_calculations\")\n",
    "xs_dir = Path(\"C:\\\\Users\\\\zachs\\\\Desktop\\\\data4plots\\\\xs_gate_err\\\\xs_with_err\")\n",
    "write_path = Path(\"C:\\\\Users\\\\zachs\\\\Desktop\")"
   ]
  },
  {
   "cell_type": "code",
   "execution_count": null,
   "id": "8b8f5061",
   "metadata": {},
   "outputs": [],
   "source": [
    "results = np.empty((len(potentials), len(states), len(energies)))\n",
    "for dp, potential in enumerate(potentials):\n",
    "    for ds, state in enumerate(states):\n",
    "        for de, energy in enumerate(energies):\n",
    "            theory = np.load(theory_dir / potential / state / f\"{energy}.npz\")\n",
    "\n",
    "            if state == states[-1] or state == states[-2]:\n",
    "                xs = np.genfromtxt(xs_dir / f\"dp_{states[-1][:-1]}_xs_ep.csv\", delimiter=',', skip_header=1)\n",
    "            else:\n",
    "                xs = np.genfromtxt(xs_dir / f\"dp_{state}_xs_ep.csv\", delimiter=',', skip_header=1)\n",
    "\n",
    "            theory_fit = lambda x, A: A * np.interp(x, theory[\"angle\"], theory[\"cross\"])\n",
    "            params = lmfit.Parameters()\n",
    "            params.add(\"A\", value=1, min=0)\n",
    "            lineshape = lmfit.Model(theory_fit)\n",
    "\n",
    "            fit_weights = np.sqrt(xs[:, 3])\n",
    "            fit_weights = np.divide(1, fit_weights, out=np.zeros_like(fit_weights), where=fit_weights!=0.0)\n",
    "            fit = lineshape.fit(params=params, x=xs[:, 0], data=xs[:, 2], weights=fit_weights)\n",
    "\n",
    "            results[dp, ds, de] = fit.params[\"A\"].value"
   ]
  },
  {
   "cell_type": "code",
   "execution_count": null,
   "id": "a0048e02",
   "metadata": {},
   "outputs": [],
   "source": [
    "# Choose potential to look at\n",
    "for set in results[0]:\n",
    "    print(f\"{set[1]:.2f}, {(set[0]-set[1]):.2f}, {(set[2]-set[1]):.2f}\")"
   ]
  },
  {
   "cell_type": "code",
   "execution_count": null,
   "id": "e71f5abe",
   "metadata": {},
   "outputs": [],
   "source": [
    "# Calculate averages\n",
    "averages = np.average(results, axis=0)\n",
    "for set in averages:\n",
    "    print(f\"{set[1]:.2f}, {(set[0]-set[1]):.2f}, {(set[2]-set[1]):.2f}\")"
   ]
  }
 ],
 "metadata": {
  "kernelspec": {
   "display_name": "e20009_analysis",
   "language": "python",
   "name": "python3"
  },
  "language_info": {
   "codemirror_mode": {
    "name": "ipython",
    "version": 3
   },
   "file_extension": ".py",
   "mimetype": "text/x-python",
   "name": "python",
   "nbconvert_exporter": "python",
   "pygments_lexer": "ipython3",
   "version": "3.11.8"
  }
 },
 "nbformat": 4,
 "nbformat_minor": 5
}

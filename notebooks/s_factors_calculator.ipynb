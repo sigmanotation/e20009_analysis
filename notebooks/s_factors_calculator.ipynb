{
 "cells": [
  {
   "cell_type": "code",
   "execution_count": null,
   "id": "46bfac9c",
   "metadata": {},
   "outputs": [],
   "source": [
    "import numpy as np\n",
    "import lmfit\n",
    "\n",
    "from pathlib import Path"
   ]
  },
  {
   "cell_type": "code",
   "execution_count": null,
   "id": "963d69f4",
   "metadata": {},
   "outputs": [],
   "source": [
    "# Configuration\n",
    "potentials = [\"an_cai\", \"da1p\"]\n",
    "# states = [\"gs\", \"0.32\", \"1.78\", \"2.65\", \"3.40n\", \"3.40p\"]\n",
    "states = [\"gs\", \"gsn\", \"0.32\", \"0.32p\", \"1.78\", \"1.78n\", \"2.65\", \"2.65p\", \"3.40n\", \"3.40p\"]\n",
    "energies = [\"mid\"]\n",
    "theory_dir = Path(\"C:\\\\Users\\\\zachs\\\\Desktop\\\\data4plots\\\\theory_calculations\")\n",
    "# theory_dir = Path(\"C:\\\\Users\\\\zachs\\\\Desktop\\\\ptolemy_calculations\")\n",
    "xs_dir = Path(\"C:\\\\Users\\\\zachs\\\\Desktop\\\\data4plots\\\\xs_gate_err\\\\xs_with_err\")\n",
    "# write_path = Path(\"C:\\\\Users\\\\zachs\\\\Desktop\")"
   ]
  },
  {
   "cell_type": "code",
   "execution_count": null,
   "id": "8b8f5061",
   "metadata": {},
   "outputs": [],
   "source": [
    "skip = [\"gsn\", \"0.32p\", \"1.78n\", \"2.65p\", \"3.40n\", \"3.40p\"]\n",
    "\n",
    "results = np.empty((len(potentials), len(states), len(energies)))\n",
    "fit_err = np.empty((len(potentials), len(states), len(energies)))\n",
    "for dp, potential in enumerate(potentials):\n",
    "    for ds, state in enumerate(states):\n",
    "        for de, energy in enumerate(energies):\n",
    "            theory = np.load(theory_dir / potential / state / f\"{energy}.npz\")\n",
    "\n",
    "            if state in skip:\n",
    "                xs = np.genfromtxt(xs_dir / f\"dp_{state[:-1]}_xs_ep.csv\", delimiter=',', skip_header=1)\n",
    "            else:\n",
    "                xs = np.genfromtxt(xs_dir / f\"dp_{state}_xs_ep.csv\", delimiter=',', skip_header=1)\n",
    "\n",
    "            theory_fit = lambda x, A: A * np.interp(x, theory[\"angle\"], theory[\"cross\"])\n",
    "            params = lmfit.Parameters()\n",
    "            params.add(\"A\", value=1, min=0)\n",
    "            lineshape = lmfit.Model(theory_fit)\n",
    "\n",
    "            fit_weights = np.divide(1, xs[:, 3], out=np.zeros_like(xs[:, 3]), where=xs[:, 3] != 0.0)\n",
    "            fit = lineshape.fit(params=params, x=xs[:, 0], data=xs[:, 2], weights=fit_weights)\n",
    "\n",
    "            results[dp, ds, de] = fit.params[\"A\"].value\n",
    "            fit_err[dp, ds, de] = fit.redchi"
   ]
  },
  {
   "cell_type": "code",
   "execution_count": null,
   "id": "c8603dfe",
   "metadata": {},
   "outputs": [],
   "source": [
    "results[1]"
   ]
  },
  {
   "cell_type": "code",
   "execution_count": null,
   "id": "880e6012",
   "metadata": {},
   "outputs": [],
   "source": [
    "# Choose potential whose reduced chi squared to look at\n",
    "fit_err[1].round(2)"
   ]
  },
  {
   "cell_type": "code",
   "execution_count": null,
   "id": "ac1eaf3e",
   "metadata": {},
   "outputs": [],
   "source": [
    "# Choose potential to look at\n",
    "pot_id = 1\n",
    "for s_fact, err in zip(results[pot_id][:, 1], fit_err[pot_id][:, 1]):\n",
    "    print(f\"{s_fact:.2f}, {err:.2f}\")"
   ]
  },
  {
   "cell_type": "code",
   "execution_count": null,
   "id": "a0048e02",
   "metadata": {},
   "outputs": [],
   "source": [
    "# Choose potential to look at\n",
    "for set in results[0]:\n",
    "    print(f\"{set[1]:.2f}, {(set[0]-set[1]):.2f}, {(set[2]-set[1]):.2f}\")"
   ]
  },
  {
   "cell_type": "code",
   "execution_count": null,
   "id": "e71f5abe",
   "metadata": {},
   "outputs": [],
   "source": [
    "# Calculate averages\n",
    "averages = np.average(results, axis=0)\n",
    "error_prop = np.sqrt(np.sum(fit_err**2, axis=0))\n",
    "\n",
    "for avg, err in zip(averages[:, 1], error_prop[:, 1]):\n",
    "    print(f\"{avg:.2f}, {err:.2f}\")\n",
    "\n",
    "# for set in averages:\n",
    "#     print(f\"{set[1]:.2f}, {(set[0]-set[1]):.2f}, {(set[2]-set[1]):.2f}\")"
   ]
  },
  {
   "cell_type": "code",
   "execution_count": null,
   "id": "1921d074",
   "metadata": {},
   "outputs": [],
   "source": [
    "# SPE for 0d_3/2\n",
    "spe_fifth = averages[-1] * 3.40 + (1 - averages[-1]) * 3.89\n",
    "print(f\"{spe_fifth[1]:.2f}, {(spe_fifth[0]-spe_fifth[1]):.2f}, {(spe_fifth[2]-spe_fifth[1]):.2f}\")"
   ]
  },
  {
   "cell_type": "code",
   "execution_count": null,
   "id": "7b291032",
   "metadata": {},
   "outputs": [],
   "source": [
    "# SPE splitting for 0d_5/2\n",
    "spe_third = averages[2] * 1.78 + (1 - averages[2]) * 3.89\n",
    "print(f\"{spe_third[1]:.2f}, {(spe_third[0]-spe_third[1]):.2f}, {(spe_third[2]-spe_third[1]):.2f}\")"
   ]
  },
  {
   "cell_type": "code",
   "execution_count": null,
   "id": "d29eea98",
   "metadata": {},
   "outputs": [],
   "source": [
    "# SO splitting for 0d\n",
    "so_split = spe_fifth - spe_third\n",
    "print(f\"{so_split[1]:.2f}, {(so_split[0]-so_split[1]):.2f}, {(so_split[2]-so_split[1]):.2f}\")"
   ]
  }
 ],
 "metadata": {
  "kernelspec": {
   "display_name": "e20009_analysis",
   "language": "python",
   "name": "python3"
  },
  "language_info": {
   "codemirror_mode": {
    "name": "ipython",
    "version": 3
   },
   "file_extension": ".py",
   "mimetype": "text/x-python",
   "name": "python",
   "nbconvert_exporter": "python",
   "pygments_lexer": "ipython3",
   "version": "3.11.8"
  }
 },
 "nbformat": 4,
 "nbformat_minor": 5
}
